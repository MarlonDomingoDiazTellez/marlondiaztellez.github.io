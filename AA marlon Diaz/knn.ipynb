{
 "cells": [
  {
   "cell_type": "code",
   "execution_count": 32,
   "metadata": {},
   "outputs": [
    {
     "name": "stdout",
     "output_type": "stream",
     "text": [
      "<bound method NDFrame.describe of       ID  N_Days Status             Drug    Age Sex Ascites Hepatomegaly  \\\n",
      "0      1     400      D  D-penicillamine  21464   F       Y            Y   \n",
      "1      2    4500      C  D-penicillamine  20617   F       N            Y   \n",
      "2      3    1012      D  D-penicillamine  25594   M       N            N   \n",
      "3      4    1925      D  D-penicillamine  19994   F       N            Y   \n",
      "4      5    1504     CL          Placebo  13918   F       N            Y   \n",
      "..   ...     ...    ...              ...    ...  ..     ...          ...   \n",
      "413  414     681      D              NaN  24472   F     NaN          NaN   \n",
      "414  415    1103      C              NaN  14245   F     NaN          NaN   \n",
      "415  416    1055      C              NaN  20819   F     NaN          NaN   \n",
      "416  417     691      C              NaN  21185   F     NaN          NaN   \n",
      "417  418     976      C              NaN  19358   F     NaN          NaN   \n",
      "\n",
      "    Spiders Edema  Bilirubin  Cholesterol  Albumin  Copper  Alk_Phos    SGOT  \\\n",
      "0         Y     Y       14.5        261.0     2.60   156.0    1718.0  137.95   \n",
      "1         Y     N        1.1        302.0     4.14    54.0    7394.8  113.52   \n",
      "2         N     S        1.4        176.0     3.48   210.0     516.0   96.10   \n",
      "3         Y     S        1.8        244.0     2.54    64.0    6121.8   60.63   \n",
      "4         Y     N        3.4        279.0     3.53   143.0     671.0  113.15   \n",
      "..      ...   ...        ...          ...      ...     ...       ...     ...   \n",
      "413     NaN     N        1.2          NaN     2.96     NaN       NaN     NaN   \n",
      "414     NaN     N        0.9          NaN     3.83     NaN       NaN     NaN   \n",
      "415     NaN     N        1.6          NaN     3.42     NaN       NaN     NaN   \n",
      "416     NaN     N        0.8          NaN     3.75     NaN       NaN     NaN   \n",
      "417     NaN     N        0.7          NaN     3.29     NaN       NaN     NaN   \n",
      "\n",
      "     Tryglicerides  Platelets  Prothrombin  Stage  \n",
      "0            172.0      190.0         12.2    4.0  \n",
      "1             88.0      221.0         10.6    3.0  \n",
      "2             55.0      151.0         12.0    4.0  \n",
      "3             92.0      183.0         10.3    4.0  \n",
      "4             72.0      136.0         10.9    3.0  \n",
      "..             ...        ...          ...    ...  \n",
      "413            NaN      174.0         10.9    3.0  \n",
      "414            NaN      180.0         11.2    4.0  \n",
      "415            NaN      143.0          9.9    3.0  \n",
      "416            NaN      269.0         10.4    3.0  \n",
      "417            NaN      350.0         10.6    4.0  \n",
      "\n",
      "[418 rows x 20 columns]>\n"
     ]
    }
   ],
   "source": [
    "import pandas as pd\n",
    "import matplotlib.pyplot as plt\n",
    "import seaborn as sns\n",
    "from sklearn.model_selection import train_test_split\n",
    "from sklearn.preprocessing import StandardScaler, LabelEncoder\n",
    "from sklearn.impute import SimpleImputer\n",
    "from sklearn.neighbors import KNeighborsClassifier\n",
    "from sklearn.metrics import classification_report, accuracy_score, confusion_matrix\n",
    "\n",
    "file_path = \"cirrhosis.csv\"\n",
    "data = pd.read_csv(file_path)\n",
    "print(data.describe)"
   ]
  },
  {
   "cell_type": "markdown",
   "metadata": {},
   "source": [
    "## Preprocesamiento de datos: Conversión y manejo de valores faltantes ##\n"
   ]
  },
  {
   "cell_type": "code",
   "execution_count": 33,
   "metadata": {},
   "outputs": [],
   "source": [
    "# Convertir variables categóricas a valores numéricos\n",
    "label_encoder = LabelEncoder()\n",
    "data['Sex'] = label_encoder.fit_transform(data['Sex'])  # Convertir 'Sex' (M/F) a (0/1)\n",
    "data['Ascites'] = label_encoder.fit_transform(data['Ascites'])\n",
    "data['Hepatomegaly'] = label_encoder.fit_transform(data['Hepatomegaly'])\n",
    "data['Spiders'] = label_encoder.fit_transform(data['Spiders'])\n",
    "data['Edema'] = label_encoder.fit_transform(data['Edema'])\n",
    "data['Drug'] = label_encoder.fit_transform(data['Drug'])\n",
    "\n",
    "# Manejar valores faltantes\n",
    "numeric_columns = data.select_dtypes(include=['float64', 'int64']).columns\n",
    "imputer = SimpleImputer(strategy='mean')\n",
    "data[numeric_columns] = imputer.fit_transform(data[numeric_columns])\n"
   ]
  },
  {
   "cell_type": "markdown",
   "metadata": {},
   "source": [
    "## Convertir la variable objetivo y dividir características y objetivo ##"
   ]
  },
  {
   "cell_type": "code",
   "execution_count": 34,
   "metadata": {},
   "outputs": [],
   "source": [
    "# Convertir la variable objetivo 'Stage' a clases discretas\n",
    "def categorize_stage(stage):\n",
    "    if stage <= 2:\n",
    "        return 0  # Etapa temprana\n",
    "    elif stage <= 4:\n",
    "        return 1  # Etapa intermedia\n",
    "    else:\n",
    "        return 2  # Etapa avanzada\n",
    "\n",
    "data['Stage'] = data['Stage'].apply(categorize_stage)\n",
    "\n",
    "# Eliminar columnas irrelevantes\n",
    "X = data.drop(columns=['ID', 'Status', 'Stage'])  # Características\n",
    "Y = data['Stage']  # Variable objetivo\n"
   ]
  },
  {
   "cell_type": "markdown",
   "metadata": {},
   "source": [
    "## Normalizar características y dividir datos ##"
   ]
  },
  {
   "cell_type": "code",
   "execution_count": 35,
   "metadata": {},
   "outputs": [],
   "source": [
    "# Normalizar características\n",
    "scaler = StandardScaler()\n",
    "X_scaled = scaler.fit_transform(X)\n",
    "\n",
    "# Dividir datos en conjuntos de entrenamiento y prueba\n",
    "X_train, X_test, Y_train, Y_test = train_test_split(X_scaled, Y, test_size=0.1, random_state=42)\n"
   ]
  },
  {
   "cell_type": "markdown",
   "metadata": {},
   "source": [
    "## Buscar el mejor valor de k ##"
   ]
  },
  {
   "cell_type": "code",
   "execution_count": 36,
   "metadata": {},
   "outputs": [],
   "source": [
    "# Entrenar modelo KNN\n",
    "best_k = 0\n",
    "best_accuracy = 0\n",
    "for k in range(1, 51):  # Probar con valores de k entre 1 y 51\n",
    "    knn = KNeighborsClassifier(n_neighbors=k)\n",
    "    knn.fit(X_train, Y_train)\n",
    "    Y_pred_val = knn.predict(X_test)\n",
    "    acc = accuracy_score(Y_test, Y_pred_val)\n",
    "    if acc > best_accuracy:\n",
    "        best_accuracy = acc\n",
    "        best_k = k\n"
   ]
  },
  {
   "cell_type": "markdown",
   "metadata": {},
   "source": [
    "## Entrenar modelo con el mejor k y hacer predicciones ##"
   ]
  },
  {
   "cell_type": "code",
   "execution_count": 37,
   "metadata": {},
   "outputs": [],
   "source": [
    "# Usar el mejor k encontrado\n",
    "knn = KNeighborsClassifier(n_neighbors=best_k)\n",
    "knn.fit(X_train, Y_train)\n",
    "\n",
    "# Hacer predicciones\n",
    "Y_pred = knn.predict(X_test)\n"
   ]
  },
  {
   "cell_type": "markdown",
   "metadata": {},
   "source": [
    "## Evaluar el modelo ##"
   ]
  },
  {
   "cell_type": "code",
   "execution_count": 38,
   "metadata": {},
   "outputs": [],
   "source": [
    "# Evaluar el modelo\n",
    "#accuracy = accuracy_score(Y_test, Y_pred)\n",
    "#report = classification_report(Y_test, Y_pred)\n",
    "\n",
    "# Matriz de confusión\n",
    "#conf_matrix = confusion_matrix(Y_test, Y_pred)\n",
    "#sns.heatmap(conf_matrix, annot=True, fmt=\"d\", cmap=\"Blues\", xticklabels=['Temprana', 'Intermedia', 'Avanzada'], yticklabels=['Temprana', 'Intermedia', 'Avanzada'])\n",
    "#plt.title(\"Matriz de Confusión\")\n",
    "#plt.xlabel(\"Predicción\")\n",
    "#plt.ylabel(\"Real\")\n",
    "#plt.show()\n"
   ]
  },
  {
   "cell_type": "markdown",
   "metadata": {},
   "source": [
    "## Gráfica de precisión por valor de k ##"
   ]
  },
  {
   "cell_type": "code",
   "execution_count": 39,
   "metadata": {},
   "outputs": [
    {
     "data": {
      "image/png": "[encoded data removed]",
      "text/plain": [
       "<Figure size 640x480 with 1 Axes>"
      ]
     },
     "metadata": {},
     "output_type": "display_data"
    }
   ],
   "source": [
    "accuracies = []\n",
    "for k in range(1, 51):\n",
    "    knn = KNeighborsClassifier(n_neighbors=k)\n",
    "    knn.fit(X_train, Y_train)\n",
    "    Y_pred_val = knn.predict(X_test)\n",
    "    accuracies.append(accuracy_score(Y_test, Y_pred_val))\n",
    "\n",
    "plt.plot(range(1, 51), accuracies, marker='o')\n",
    "plt.title(\"Precisión del Modelo vs. Número de Vecinos (k)\")\n",
    "plt.xlabel(\"Número de Vecinos (k)\")\n",
    "plt.ylabel(\"Precisión\")\n",
    "plt.xticks(range(1, 51))\n",
    "plt.grid()\n",
    "plt.show()\n"
   ]
  },
  {
   "cell_type": "markdown",
   "metadata": {},
   "source": [
    "## Resultados finales ##"
   ]
  },
  {
   "cell_type": "code",
   "execution_count": 40,
   "metadata": {},
   "outputs": [
    {
     "name": "stdout",
     "output_type": "stream",
     "text": [
      "Mejor k encontrado: 9\n",
      "Precisión del modelo con k=9: 0.83\n",
      "Reporte de clasificación:\n",
      "              precision    recall  f1-score   support\n",
      "\n",
      "           0       0.60      0.38      0.46         8\n",
      "           1       0.86      0.94      0.90        34\n",
      "\n",
      "    accuracy                           0.83        42\n",
      "   macro avg       0.73      0.66      0.68        42\n",
      "weighted avg       0.81      0.83      0.82        42\n",
      "\n"
     ]
    }
   ],
   "source": [
    "# Mostrar resultados\n",
    "print(f\"Mejor k encontrado: {best_k}\")\n",
    "print(f\"Precisión del modelo con k={best_k}: {accuracy:.2f}\")\n",
    "print(\"Reporte de clasificación:\")\n",
    "print(report)\n"
   ]
  }
 ],
 "metadata": {
  "kernelspec": {
   "display_name": "Python 3",
   "language": "python",
   "name": "python3"
  },
  "language_info": {
   "codemirror_mode": {
    "name": "ipython",
    "version": 3
   },
   "file_extension": ".py",
   "mimetype": "text/x-python",
   "name": "python",
   "nbconvert_exporter": "python",
   "pygments_lexer": "ipython3",
   "version": "3.13.1"
  }
 },
 "nbformat": 4,
 "nbformat_minor": 2
}
